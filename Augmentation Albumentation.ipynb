{
 "cells": [
  {
   "cell_type": "code",
   "execution_count": 1,
   "id": "9edf80b5",
   "metadata": {},
   "outputs": [
    {
     "name": "stdout",
     "output_type": "stream",
     "text": [
      "Requirement already satisfied: albumentations in c:\\users\\patel1637\\appdata\\local\\anaconda3\\lib\\site-packages (1.4.6)\n",
      "Requirement already satisfied: typing-extensions>=4.9.0 in c:\\users\\patel1637\\appdata\\local\\anaconda3\\lib\\site-packages (from albumentations) (4.11.0)\n",
      "Requirement already satisfied: pydantic>=2.7.0 in c:\\users\\patel1637\\appdata\\local\\anaconda3\\lib\\site-packages (from albumentations) (2.7.1)\n",
      "Requirement already satisfied: scipy>=1.10.0 in c:\\users\\patel1637\\appdata\\local\\anaconda3\\lib\\site-packages (from albumentations) (1.10.0)\n",
      "Requirement already satisfied: scikit-learn>=1.3.2 in c:\\users\\patel1637\\appdata\\local\\anaconda3\\lib\\site-packages (from albumentations) (1.4.2)\n",
      "Requirement already satisfied: scikit-image>=0.21.0 in c:\\users\\patel1637\\appdata\\local\\anaconda3\\lib\\site-packages (from albumentations) (0.23.2)\n",
      "Requirement already satisfied: numpy>=1.24.4 in c:\\users\\patel1637\\appdata\\local\\anaconda3\\lib\\site-packages (from albumentations) (1.26.4)\n",
      "Requirement already satisfied: opencv-python-headless>=4.9.0 in c:\\users\\patel1637\\appdata\\local\\anaconda3\\lib\\site-packages (from albumentations) (4.9.0.80)\n",
      "Requirement already satisfied: PyYAML in c:\\users\\patel1637\\appdata\\local\\anaconda3\\lib\\site-packages (from albumentations) (6.0)\n",
      "Requirement already satisfied: annotated-types>=0.4.0 in c:\\users\\patel1637\\appdata\\local\\anaconda3\\lib\\site-packages (from pydantic>=2.7.0->albumentations) (0.6.0)\n",
      "Requirement already satisfied: pydantic-core==2.18.2 in c:\\users\\patel1637\\appdata\\local\\anaconda3\\lib\\site-packages (from pydantic>=2.7.0->albumentations) (2.18.2)\n",
      "Requirement already satisfied: imageio>=2.33 in c:\\users\\patel1637\\appdata\\local\\anaconda3\\lib\\site-packages (from scikit-image>=0.21.0->albumentations) (2.34.1)\n",
      "Requirement already satisfied: networkx>=2.8 in c:\\users\\patel1637\\appdata\\local\\anaconda3\\lib\\site-packages (from scikit-image>=0.21.0->albumentations) (2.8.4)\n",
      "Requirement already satisfied: tifffile>=2022.8.12 in c:\\users\\patel1637\\appdata\\local\\anaconda3\\lib\\site-packages (from scikit-image>=0.21.0->albumentations) (2024.5.3)\n",
      "Requirement already satisfied: pillow>=9.1 in c:\\users\\patel1637\\appdata\\local\\anaconda3\\lib\\site-packages (from scikit-image>=0.21.0->albumentations) (9.4.0)\n",
      "Requirement already satisfied: packaging>=21 in c:\\users\\patel1637\\appdata\\local\\anaconda3\\lib\\site-packages (from scikit-image>=0.21.0->albumentations) (22.0)\n",
      "Requirement already satisfied: lazy-loader>=0.4 in c:\\users\\patel1637\\appdata\\local\\anaconda3\\lib\\site-packages (from scikit-image>=0.21.0->albumentations) (0.4)\n",
      "Requirement already satisfied: joblib>=1.2.0 in c:\\users\\patel1637\\appdata\\local\\anaconda3\\lib\\site-packages (from scikit-learn>=1.3.2->albumentations) (1.4.2)\n",
      "Requirement already satisfied: threadpoolctl>=2.0.0 in c:\\users\\patel1637\\appdata\\local\\anaconda3\\lib\\site-packages (from scikit-learn>=1.3.2->albumentations) (2.2.0)\n"
     ]
    }
   ],
   "source": [
    "!pip install albumentations"
   ]
  },
  {
   "cell_type": "code",
   "execution_count": 5,
   "id": "48e1eb98",
   "metadata": {},
   "outputs": [
    {
     "name": "stdout",
     "output_type": "stream",
     "text": [
      "['AdvancedBlur', 'Affine', 'BBoxSafeRandomCrop', 'BaseCompose', 'BasicTransform', 'BboxParams', 'Blur', 'CLAHE', 'CenterCrop', 'ChannelDropout', 'ChannelShuffle', 'ChromaticAberration', 'CoarseDropout', 'ColorJitter', 'Compose', 'Crop', 'CropAndPad', 'CropNonEmptyMaskIfExists', 'D4', 'Defocus', 'Downscale', 'DualTransform', 'ElasticTransform', 'Emboss', 'Equalize', 'FDA', 'FancyPCA', 'Flip', 'FromFloat', 'GaussNoise', 'GaussianBlur', 'GlassBlur', 'GridDistortion', 'GridDropout', 'HistogramMatching', 'HorizontalFlip', 'HueSaturationValue', 'ISONoise', 'ImageCompression', 'ImageOnlyTransform', 'InvertImg', 'KeypointParams', 'Lambda', 'LongestMaxSize', 'MAX_VALUES_BY_DTYPE', 'MaskDropout', 'MedianBlur', 'MixUp', 'Morphological', 'MotionBlur', 'MultiplicativeNoise', 'NPDTYPE_TO_OPENCV_DTYPE', 'NoOp', 'Normalize', 'OneOf', 'OneOrOther', 'OpticalDistortion', 'PadIfNeeded', 'Perspective', 'PiecewiseAffine', 'PixelDistributionAdaptation', 'PixelDropout', 'Posterize', 'RGBShift', 'RandomBrightnessContrast', 'RandomCrop', 'RandomCropFromBorders', 'RandomCropNearBBox', 'RandomFog', 'RandomGamma', 'RandomGravel', 'RandomGridShuffle', 'RandomRain', 'RandomResizedCrop', 'RandomRotate90', 'RandomScale', 'RandomShadow', 'RandomSizedBBoxSafeCrop', 'RandomSizedCrop', 'RandomSnow', 'RandomSunFlare', 'RandomToneCurve', 'ReferenceBasedTransform', 'ReplayCompose', 'Resize', 'RingingOvershoot', 'Rotate', 'SafeRotate', 'SelectiveChannelTransform', 'Sequential', 'Sharpen', 'ShiftScaleRotate', 'SmallestMaxSize', 'Solarize', 'SomeOf', 'Spatter', 'Superpixels', 'TemplateTransform', 'ToFloat', 'ToGray', 'ToRGB', 'ToSepia', 'TransformType', 'TransformsSeqType', 'Transpose', 'UnsharpMask', 'VerticalFlip', 'XYMasking', 'ZoomBlur', '__builtins__', '__cached__', '__doc__', '__file__', '__loader__', '__name__', '__package__', '__path__', '__spec__', '__version__', 'adapt_pixel_distribution', 'add_fog', 'add_gravel', 'add_rain', 'add_shadow', 'add_snow', 'add_sun_flare', 'add_weighted', 'adjust_brightness_torchvision', 'adjust_contrast_torchvision', 'adjust_hue_torchvision', 'adjust_saturation_torchvision', 'angle_2pi_range', 'apply_histogram', 'augmentations', 'bbox_affine', 'bbox_center_crop', 'bbox_crop', 'bbox_d4', 'bbox_flip', 'bbox_hflip', 'bbox_piecewise_affine', 'bbox_random_crop', 'bbox_rot90', 'bbox_rotate', 'bbox_safe_rotate', 'bbox_transpose', 'bbox_vflip', 'blur', 'brightness_contrast_adjust', 'center_crop', 'central_zoom', 'channel_dropout', 'channel_shuffle', 'chromatic_aberration', 'clahe', 'clamping_crop', 'clip', 'clipped', 'convolve', 'core', 'crop', 'crop_and_pad', 'crop_and_pad_bbox', 'crop_and_pad_keypoint', 'crop_bbox_by_coords', 'crop_keypoint_by_coords', 'crops', 'cutout', 'd4', 'defocus', 'denormalize_bbox', 'dilate', 'domain_adaptation', 'domain_adaptation_functional', 'downscale', 'dropout', 'elastic_transform', 'elastic_transform_approx', 'ensure_contiguous', 'equalize', 'erode', 'fancy_pca', 'fourier_domain_adaptation', 'from_dict', 'from_distance_maps', 'from_float', 'functional', 'gamma_transform', 'gauss_noise', 'gaussian_blur', 'geometric', 'get_center_crop_coords', 'get_num_channels', 'get_opencv_dtype_from_numpy', 'get_random_crop_coords', 'glass_blur', 'gray_to_rgb', 'grid_distortion', 'hflip', 'hflip_cv2', 'image_compression', 'invert', 'is_grayscale_image', 'is_multispectral_image', 'is_rgb_image', 'iso_noise', 'keypoint_affine', 'keypoint_center_crop', 'keypoint_d4', 'keypoint_flip', 'keypoint_hflip', 'keypoint_in_hole', 'keypoint_piecewise_affine', 'keypoint_random_crop', 'keypoint_rot90', 'keypoint_rotate', 'keypoint_safe_rotate', 'keypoint_scale', 'keypoint_transpose', 'keypoint_vflip', 'linear_transformation_rgb', 'load', 'longest_max_size', 'median_blur', 'mix_arrays', 'mixing', 'move_tone_curve', 'multiply', 'non_rgb_warning', 'noop', 'normalize', 'normalize_bbox', 'np', 'optical_distortion', 'pad', 'pad_with_params', 'perspective', 'perspective_bbox', 'perspective_keypoint', 'piecewise_affine', 'posterize', 'preserve_channel_dim', 'random_crop', 'random_utils', 'read_bgr_image', 'read_grayscale', 'read_rgb_image', 'resize', 'rotate', 'rotation2d_matrix_to_euler_angles', 'safe_rotate', 'save', 'scale', 'shift_hsv', 'shift_rgb', 'smallest_max_size', 'solarize', 'split_uniform_grid', 'superpixels', 'swap_tiles_on_image', 'to_dict', 'to_distance_maps', 'to_float', 'to_gray', 'transforms', 'transpose', 'unsharp_mask', 'utils', 'vflip', 'warn', 'warp_affine', 'zoom_blur']\n"
     ]
    }
   ],
   "source": [
    "import albumentations as A\n",
    "import cv2\n",
    "import os\n",
    "\n",
    "print(dir(A))\n"
   ]
  },
  {
   "cell_type": "code",
   "execution_count": 10,
   "id": "e6943c18",
   "metadata": {},
   "outputs": [
    {
     "name": "stdout",
     "output_type": "stream",
     "text": [
      "Saved: 1--100.4396111-49.89561824-383.0-1000RGBShift.jpg\n",
      "Saved: 1--100.4396111-49.89561824-383.0-1001HueSaturationValue.jpg\n",
      "Saved: 1--100.4396111-49.89561824-383.0-1002ChannelShuffle.jpg\n",
      "Saved: 1--100.4396111-49.89561824-383.0-1003CLAHE.jpg\n",
      "Saved: 1--100.4396111-49.89561824-383.0-1004RandomBrightness.jpg\n",
      "Saved: 1--100.4396111-49.89561824-383.0-1005RandomGamma.jpg\n",
      "Saved: 1--100.4396111-49.89561824-383.0-1006ToGray.jpg\n",
      "Saved: 1--100.4396111-49.89561824-383.0-1007JpegCompression.jpg\n",
      "Saved: 1--100.4396111-49.89561824-383.0-1008ChannelDropout.jpg\n",
      "Saved: 1--96.32244213-49.8953832-274.0-1000RGBShift.jpg\n",
      "Saved: 1--96.32244213-49.8953832-274.0-1001HueSaturationValue.jpg\n",
      "Saved: 1--96.32244213-49.8953832-274.0-1002ChannelShuffle.jpg\n",
      "Saved: 1--96.32244213-49.8953832-274.0-1003CLAHE.jpg\n",
      "Saved: 1--96.32244213-49.8953832-274.0-1004RandomBrightness.jpg\n",
      "Saved: 1--96.32244213-49.8953832-274.0-1005RandomGamma.jpg\n",
      "Saved: 1--96.32244213-49.8953832-274.0-1006ToGray.jpg\n",
      "Saved: 1--96.32244213-49.8953832-274.0-1007JpegCompression.jpg\n",
      "Saved: 1--96.32244213-49.8953832-274.0-1008ChannelDropout.jpg\n",
      "Saved: 1--96.60774971-49.90044367-258.0-1000RGBShift.jpg\n",
      "Saved: 1--96.60774971-49.90044367-258.0-1001HueSaturationValue.jpg\n",
      "Saved: 1--96.60774971-49.90044367-258.0-1002ChannelShuffle.jpg\n",
      "Saved: 1--96.60774971-49.90044367-258.0-1003CLAHE.jpg\n",
      "Saved: 1--96.60774971-49.90044367-258.0-1004RandomBrightness.jpg\n",
      "Saved: 1--96.60774971-49.90044367-258.0-1005RandomGamma.jpg\n",
      "Saved: 1--96.60774971-49.90044367-258.0-1006ToGray.jpg\n",
      "Saved: 1--96.60774971-49.90044367-258.0-1007JpegCompression.jpg\n",
      "Saved: 1--96.60774971-49.90044367-258.0-1008ChannelDropout.jpg\n",
      "Saved: 1--96.91807237-49.90734656-227.0-1000RGBShift.jpg\n",
      "Saved: 1--96.91807237-49.90734656-227.0-1001HueSaturationValue.jpg\n",
      "Saved: 1--96.91807237-49.90734656-227.0-1002ChannelShuffle.jpg\n",
      "Saved: 1--96.91807237-49.90734656-227.0-1003CLAHE.jpg\n",
      "Saved: 1--96.91807237-49.90734656-227.0-1004RandomBrightness.jpg\n",
      "Saved: 1--96.91807237-49.90734656-227.0-1005RandomGamma.jpg\n",
      "Saved: 1--96.91807237-49.90734656-227.0-1006ToGray.jpg\n",
      "Saved: 1--96.91807237-49.90734656-227.0-1007JpegCompression.jpg\n",
      "Saved: 1--96.91807237-49.90734656-227.0-1008ChannelDropout.jpg\n",
      "Saved: 1--99.33982419-49.89995086-377.0-1000RGBShift.jpg\n",
      "Saved: 1--99.33982419-49.89995086-377.0-1001HueSaturationValue.jpg\n",
      "Saved: 1--99.33982419-49.89995086-377.0-1002ChannelShuffle.jpg\n",
      "Saved: 1--99.33982419-49.89995086-377.0-1003CLAHE.jpg\n",
      "Saved: 1--99.33982419-49.89995086-377.0-1004RandomBrightness.jpg\n",
      "Saved: 1--99.33982419-49.89995086-377.0-1005RandomGamma.jpg\n",
      "Saved: 1--99.33982419-49.89995086-377.0-1006ToGray.jpg\n",
      "Saved: 1--99.33982419-49.89995086-377.0-1007JpegCompression.jpg\n",
      "Saved: 1--99.33982419-49.89995086-377.0-1008ChannelDropout.jpg\n"
     ]
    }
   ],
   "source": [
    "\n",
    "p=1\n",
    "file_path = 'C:/Users/patel1637/MB_HS_100/'\n",
    "output_path='C:/Users/patel1637/MB_HS_100_AUG/'\n",
    "\n",
    "def get_filenames(file_path):\n",
    "    return os.listdir(file_path)\n",
    "\n",
    "'''\n",
    "returns a list of transformations\n",
    "Only safe augmentationg are used.\n",
    "safe: no color changes, no pixel level changes\n",
    "'''\n",
    "def Get_transform_list():\n",
    "    transform= [\n",
    "        A.RGBShift(p=p),\n",
    "        A.HueSaturationValue(p=p),\n",
    "        A.ChannelShuffle(p=p),\n",
    "        A.CLAHE(p=p),\n",
    "#         A.RandomBrightness(p=p),\n",
    "        A.RandomGamma(p=p),\n",
    "        A.ToGray(p=p),\n",
    "#         A.JpegCompression(p=p),\n",
    "        A.ChannelDropout(p=p),\n",
    "        A.ColorJitter(p=p),\n",
    "        A.Equalize(p=p),\n",
    "\n",
    "    ]\n",
    "    name_list= [\n",
    "        'RGBShift','HueSaturationValue','ChannelShuffle','CLAHE','RandomBrightness','RandomGamma','ToGray','JpegCompression','ChannelDropout','ColorJitter','Equalize'\n",
    "    ]\n",
    "    return transform,name_list\n",
    "\n",
    "def apply_transform(image,transformation):\n",
    "    return transformation(image=image)[\"image\"]\n",
    "\n",
    "def check_save_path(path):\n",
    "    if os.path.isdir(path):\n",
    "        return path\n",
    "    else:\n",
    "        os.mkdir(path)\n",
    "        return path\n",
    "def createFolderifNotExists(path):\n",
    "    if not os.path.exists(path):\n",
    "        os.makedirs(path)\n",
    "    return path\n",
    "\n",
    "def main():\n",
    "    files=get_filenames(file_path)\n",
    "    transform_list,name_list=Get_transform_list()\n",
    "    save_path=check_save_path(output_path)\n",
    "    \n",
    "    for file in files:\n",
    "        i=0\n",
    "        filename=file.rsplit('.', 1)[0]\n",
    "        \n",
    "        if file.endswith('.jpg'):\n",
    "            try:\n",
    "                image= cv2.imread(file_path+file)\n",
    "                for a in transform_list:\n",
    "                    createFolderifNotExists(save_path+'/'+str(i))\n",
    "                    aug_img=apply_transform(image,a)                    \n",
    "                    cv2.imwrite(save_path+'/'+str(i)+'/'+filename+str(i)+name_list[i]+'.jpg',aug_img)\n",
    "                    print('Saved: '+filename+str(i)+name_list[i]+'.jpg')\n",
    "                    i+=1\n",
    "            \n",
    "            except Exception as e:\n",
    "                print(e)\n",
    "                continue\n",
    "            \n",
    "    \n",
    "\n",
    "if __name__ == \"__main__\":\n",
    "    main()"
   ]
  },
  {
   "cell_type": "code",
   "execution_count": null,
   "id": "d372f01c",
   "metadata": {},
   "outputs": [],
   "source": []
  }
 ],
 "metadata": {
  "kernelspec": {
   "display_name": "Python 3 (ipykernel)",
   "language": "python",
   "name": "python3"
  },
  "language_info": {
   "codemirror_mode": {
    "name": "ipython",
    "version": 3
   },
   "file_extension": ".py",
   "mimetype": "text/x-python",
   "name": "python",
   "nbconvert_exporter": "python",
   "pygments_lexer": "ipython3",
   "version": "3.10.9"
  }
 },
 "nbformat": 4,
 "nbformat_minor": 5
}
