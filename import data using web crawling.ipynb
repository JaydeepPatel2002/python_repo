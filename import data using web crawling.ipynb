{
 "cells": [
  {
   "cell_type": "code",
   "execution_count": 5,
   "id": "59790978",
   "metadata": {},
   "outputs": [
    {
     "ename": "TypeError",
     "evalue": "'NoneType' object is not subscriptable",
     "output_type": "error",
     "traceback": [
      "\u001b[1;31m---------------------------------------------------------------------------\u001b[0m",
      "\u001b[1;31mTypeError\u001b[0m                                 Traceback (most recent call last)",
      "Cell \u001b[1;32mIn[5], line 17\u001b[0m\n\u001b[0;32m     14\u001b[0m soup \u001b[38;5;241m=\u001b[39m BeautifulSoup(response\u001b[38;5;241m.\u001b[39mtext, \u001b[38;5;124m'\u001b[39m\u001b[38;5;124mhtml.parser\u001b[39m\u001b[38;5;124m'\u001b[39m)\n\u001b[0;32m     16\u001b[0m \u001b[38;5;66;03m# Find the URL of the map image using the id attribute\u001b[39;00m\n\u001b[1;32m---> 17\u001b[0m map_image_url \u001b[38;5;241m=\u001b[39m \u001b[43msoup\u001b[49m\u001b[38;5;241;43m.\u001b[39;49m\u001b[43mfind\u001b[49m\u001b[43m(\u001b[49m\u001b[38;5;124;43m'\u001b[39;49m\u001b[38;5;124;43mimg\u001b[39;49m\u001b[38;5;124;43m'\u001b[39;49m\u001b[43m,\u001b[49m\u001b[43m \u001b[49m\u001b[43m{\u001b[49m\u001b[38;5;124;43m'\u001b[39;49m\u001b[38;5;124;43mid\u001b[39;49m\u001b[38;5;124;43m'\u001b[39;49m\u001b[43m:\u001b[49m\u001b[43m \u001b[49m\u001b[38;5;124;43m'\u001b[39;49m\u001b[38;5;124;43mcoordinatesImg\u001b[39;49m\u001b[38;5;124;43m'\u001b[39;49m\u001b[43m}\u001b[49m\u001b[43m)\u001b[49m\u001b[43m[\u001b[49m\u001b[38;5;124;43m'\u001b[39;49m\u001b[38;5;124;43msrc\u001b[39;49m\u001b[38;5;124;43m'\u001b[39;49m\u001b[43m]\u001b[49m\n\u001b[0;32m     19\u001b[0m \u001b[38;5;66;03m# Convert relative URL to absolute URL\u001b[39;00m\n\u001b[0;32m     20\u001b[0m absolute_map_image_url \u001b[38;5;241m=\u001b[39m urljoin(map_url, map_image_url)\n",
      "\u001b[1;31mTypeError\u001b[0m: 'NoneType' object is not subscriptable"
     ]
    }
   ],
   "source": [
    "import requests\n",
    "from bs4 import BeautifulSoup\n",
    "from urllib.parse import urljoin\n",
    "\n",
    "# URL of the map page\n",
    "map_url = \"https://maps.canada.ca/czs/index-en.html\"\n",
    "\n",
    "# Send a GET request to the URL\n",
    "response = requests.get(map_url)\n",
    "\n",
    "# Check if the request was successful (status code 200)\n",
    "if response.status_code == 200:\n",
    "    # Parse the HTML content of the page\n",
    "    soup = BeautifulSoup(response.text, 'html.parser')\n",
    "\n",
    "    # Find the URL of the map image using the id attribute\n",
    "    map_image_url = soup.find('img', {'id': 'coordinatesImg'})['src']\n",
    "\n",
    "    # Convert relative URL to absolute URL\n",
    "    absolute_map_image_url = urljoin(map_url, map_image_url)\n",
    "\n",
    "    # Download the map image\n",
    "    map_image_response = requests.get(absolute_map_image_url)\n",
    "\n",
    "    # Save the map image to a file with a .png extension\n",
    "    with open('map_image.png', 'wb') as f:\n",
    "        f.write(map_image_response.content)\n",
    "\n",
    "    print(\"Map image downloaded successfully.\")\n",
    "else:\n",
    "    print(f\"Failed to retrieve the map. Status code: {response.status_code}\")\n",
    "\n"
   ]
  },
  {
   "cell_type": "code",
   "execution_count": 1,
   "id": "45a8c0e7",
   "metadata": {},
   "outputs": [
    {
     "ename": "ModuleNotFoundError",
     "evalue": "No module named 'swiftshadow.swiftshadow'",
     "output_type": "error",
     "traceback": [
      "\u001b[1;31m---------------------------------------------------------------------------\u001b[0m",
      "\u001b[1;31mModuleNotFoundError\u001b[0m                       Traceback (most recent call last)",
      "Cell \u001b[1;32mIn[1], line 1\u001b[0m\n\u001b[1;32m----> 1\u001b[0m \u001b[38;5;28;01mfrom\u001b[39;00m \u001b[38;5;21;01mswiftshadow\u001b[39;00m\u001b[38;5;21;01m.\u001b[39;00m\u001b[38;5;21;01mswiftshadow\u001b[39;00m \u001b[38;5;28;01mimport\u001b[39;00m Proxy\n\u001b[0;32m      3\u001b[0m swift \u001b[38;5;241m=\u001b[39m Proxy()\n\u001b[0;32m      4\u001b[0m \u001b[38;5;28mprint\u001b[39m(swift\u001b[38;5;241m.\u001b[39mproxy())\n",
      "\u001b[1;31mModuleNotFoundError\u001b[0m: No module named 'swiftshadow.swiftshadow'"
     ]
    }
   ],
   "source": [
    "from swiftshadow.swiftshadow import Proxy\n",
    "\n",
    "swift = Proxy()\n",
    "print(swift.proxy())\n"
   ]
  },
  {
   "cell_type": "code",
   "execution_count": 1,
   "id": "00279320",
   "metadata": {},
   "outputs": [
    {
     "name": "stdout",
     "output_type": "stream",
     "text": [
      "Requirement already satisfied: swiftshadow in c:\\users\\patel1637\\appdata\\local\\anaconda3\\lib\\site-packages (1.0.0)\n",
      "Requirement already satisfied: requests in c:\\users\\patel1637\\appdata\\local\\anaconda3\\lib\\site-packages (from swiftshadow) (2.28.1)\n",
      "Requirement already satisfied: idna<4,>=2.5 in c:\\users\\patel1637\\appdata\\local\\anaconda3\\lib\\site-packages (from requests->swiftshadow) (3.4)\n",
      "Requirement already satisfied: certifi>=2017.4.17 in c:\\users\\patel1637\\appdata\\local\\anaconda3\\lib\\site-packages (from requests->swiftshadow) (2022.12.7)\n",
      "Requirement already satisfied: charset-normalizer<3,>=2 in c:\\users\\patel1637\\appdata\\local\\anaconda3\\lib\\site-packages (from requests->swiftshadow) (2.0.4)\n",
      "Requirement already satisfied: urllib3<1.27,>=1.21.1 in c:\\users\\patel1637\\appdata\\local\\anaconda3\\lib\\site-packages (from requests->swiftshadow) (1.26.14)\n"
     ]
    }
   ],
   "source": [
    "!pip install swiftshadow\n"
   ]
  },
  {
   "cell_type": "code",
   "execution_count": 3,
   "id": "f6e3d26a",
   "metadata": {},
   "outputs": [
    {
     "ename": "NameError",
     "evalue": "name 'swiftshadow' is not defined",
     "output_type": "error",
     "traceback": [
      "\u001b[1;31m---------------------------------------------------------------------------\u001b[0m",
      "\u001b[1;31mNameError\u001b[0m                                 Traceback (most recent call last)",
      "Cell \u001b[1;32mIn[3], line 1\u001b[0m\n\u001b[1;32m----> 1\u001b[0m \u001b[38;5;28mprint\u001b[39m(\u001b[43mswiftshadow\u001b[49m)\n",
      "\u001b[1;31mNameError\u001b[0m: name 'swiftshadow' is not defined"
     ]
    }
   ],
   "source": [
    "print(swiftshadow)"
   ]
  },
  {
   "cell_type": "code",
   "execution_count": 4,
   "id": "3c004c62",
   "metadata": {},
   "outputs": [
    {
     "ename": "ModuleNotFoundError",
     "evalue": "No module named 'swiftshadow.swiftshadow'",
     "output_type": "error",
     "traceback": [
      "\u001b[1;31m---------------------------------------------------------------------------\u001b[0m",
      "\u001b[1;31mModuleNotFoundError\u001b[0m                       Traceback (most recent call last)",
      "Cell \u001b[1;32mIn[4], line 1\u001b[0m\n\u001b[1;32m----> 1\u001b[0m \u001b[38;5;28;01mfrom\u001b[39;00m \u001b[38;5;21;01mswiftshadow\u001b[39;00m\u001b[38;5;21;01m.\u001b[39;00m\u001b[38;5;21;01mswiftshadow\u001b[39;00m \u001b[38;5;28;01mimport\u001b[39;00m Proxy\n\u001b[0;32m      3\u001b[0m swift \u001b[38;5;241m=\u001b[39m Proxy()\n\u001b[0;32m      4\u001b[0m \u001b[38;5;28mprint\u001b[39m(swift\u001b[38;5;241m.\u001b[39mproxy())\n",
      "\u001b[1;31mModuleNotFoundError\u001b[0m: No module named 'swiftshadow.swiftshadow'"
     ]
    }
   ],
   "source": [
    "\n"
   ]
  },
  {
   "cell_type": "code",
   "execution_count": 3,
   "id": "84fb640b",
   "metadata": {},
   "outputs": [
    {
     "name": "stdout",
     "output_type": "stream",
     "text": [
      "Requirement already satisfied: swiftshadow in c:\\users\\patel1637\\appdata\\local\\anaconda3\\lib\\site-packages (1.0.0)\n",
      "Requirement already satisfied: requests in c:\\users\\patel1637\\appdata\\local\\anaconda3\\lib\\site-packages (from swiftshadow) (2.28.1)\n",
      "Requirement already satisfied: charset-normalizer<3,>=2 in c:\\users\\patel1637\\appdata\\local\\anaconda3\\lib\\site-packages (from requests->swiftshadow) (2.0.4)\n",
      "Requirement already satisfied: urllib3<1.27,>=1.21.1 in c:\\users\\patel1637\\appdata\\local\\anaconda3\\lib\\site-packages (from requests->swiftshadow) (1.26.14)\n",
      "Requirement already satisfied: certifi>=2017.4.17 in c:\\users\\patel1637\\appdata\\local\\anaconda3\\lib\\site-packages (from requests->swiftshadow) (2022.12.7)\n",
      "Requirement already satisfied: idna<4,>=2.5 in c:\\users\\patel1637\\appdata\\local\\anaconda3\\lib\\site-packages (from requests->swiftshadow) (3.4)\n"
     ]
    }
   ],
   "source": [
    "!pip install swiftshadow"
   ]
  },
  {
   "cell_type": "code",
   "execution_count": 35,
   "id": "ceaf38f3",
   "metadata": {},
   "outputs": [
    {
     "name": "stdout",
     "output_type": "stream",
     "text": [
      "{'http': ''}\n"
     ]
    }
   ],
   "source": [
    "import swiftshadow\n",
    "from swiftshadow import QuickProxy\n",
    "\n",
    "swift = QuickProxy([\"India\",\"BM\"])\n",
    "\n",
    "print(swift)"
   ]
  },
  {
   "cell_type": "code",
   "execution_count": 40,
   "id": "0a2bf01a",
   "metadata": {},
   "outputs": [
    {
     "name": "stdout",
     "output_type": "stream",
     "text": [
      "04/01/2024 09:07:22 - [swiftshadow] - ERROR : No cache found. Cache will be created after update\n"
     ]
    },
    {
     "ename": "PermissionError",
     "evalue": "[Errno 13] Permission denied: '/.swiftshadow.json'",
     "output_type": "error",
     "traceback": [
      "\u001b[1;31m---------------------------------------------------------------------------\u001b[0m",
      "\u001b[1;31mPermissionError\u001b[0m                           Traceback (most recent call last)",
      "Cell \u001b[1;32mIn[40], line 4\u001b[0m\n\u001b[0;32m      1\u001b[0m \u001b[38;5;28;01mimport\u001b[39;00m \u001b[38;5;21;01mswiftshadow\u001b[39;00m\n\u001b[0;32m      2\u001b[0m \u001b[38;5;28;01mfrom\u001b[39;00m \u001b[38;5;21;01mswiftshadow\u001b[39;00m\u001b[38;5;21;01m.\u001b[39;00m\u001b[38;5;21;01mclasses\u001b[39;00m \u001b[38;5;28;01mimport\u001b[39;00m Proxy\n\u001b[1;32m----> 4\u001b[0m swift \u001b[38;5;241m=\u001b[39m \u001b[43mProxy\u001b[49m\u001b[43m(\u001b[49m\u001b[43mautoRotate\u001b[49m\u001b[38;5;241;43m=\u001b[39;49m\u001b[38;5;28;43;01mTrue\u001b[39;49;00m\u001b[43m)\u001b[49m\n\u001b[0;32m      6\u001b[0m \u001b[38;5;28mprint\u001b[39m(swift)\n",
      "File \u001b[1;32m~\\AppData\\Local\\anaconda3\\lib\\site-packages\\swiftshadow\\classes.py:56\u001b[0m, in \u001b[0;36mProxy.__init__\u001b[1;34m(self, countries, protocol, maxProxies, autoRotate, cachePeriod, cacheFolder)\u001b[0m\n\u001b[0;32m     53\u001b[0m \u001b[38;5;28;01melse\u001b[39;00m:\n\u001b[0;32m     54\u001b[0m     \u001b[38;5;28mself\u001b[39m\u001b[38;5;241m.\u001b[39mcacheFilePath \u001b[38;5;241m=\u001b[39m \u001b[38;5;124mf\u001b[39m\u001b[38;5;124m\"\u001b[39m\u001b[38;5;132;01m{\u001b[39;00mcacheFolder\u001b[38;5;132;01m}\u001b[39;00m\u001b[38;5;124m/.swiftshadow.json\u001b[39m\u001b[38;5;124m\"\u001b[39m\n\u001b[1;32m---> 56\u001b[0m \u001b[38;5;28;43mself\u001b[39;49m\u001b[38;5;241;43m.\u001b[39;49m\u001b[43mupdate\u001b[49m\u001b[43m(\u001b[49m\u001b[43m)\u001b[49m\n",
      "File \u001b[1;32m~\\AppData\\Local\\anaconda3\\lib\\site-packages\\swiftshadow\\classes.py:107\u001b[0m, in \u001b[0;36mProxy.update\u001b[1;34m(self)\u001b[0m\n\u001b[0;32m    102\u001b[0m     log(\n\u001b[0;32m    103\u001b[0m         \u001b[38;5;124m\"\u001b[39m\u001b[38;5;124mwarning\u001b[39m\u001b[38;5;124m\"\u001b[39m,\n\u001b[0;32m    104\u001b[0m         \u001b[38;5;124m\"\u001b[39m\u001b[38;5;124mNo proxies found for current settings. To prevent runtime error updating the proxy list again.\u001b[39m\u001b[38;5;124m\"\u001b[39m,\n\u001b[0;32m    105\u001b[0m     )\n\u001b[0;32m    106\u001b[0m     \u001b[38;5;28mself\u001b[39m\u001b[38;5;241m.\u001b[39mupdate()\n\u001b[1;32m--> 107\u001b[0m \u001b[38;5;28;01mwith\u001b[39;00m \u001b[38;5;28;43mopen\u001b[39;49m\u001b[43m(\u001b[49m\u001b[38;5;28;43mself\u001b[39;49m\u001b[38;5;241;43m.\u001b[39;49m\u001b[43mcacheFilePath\u001b[49m\u001b[43m,\u001b[49m\u001b[43m \u001b[49m\u001b[38;5;124;43m\"\u001b[39;49m\u001b[38;5;124;43mw\u001b[39;49m\u001b[38;5;124;43m\"\u001b[39;49m\u001b[43m)\u001b[49m \u001b[38;5;28;01mas\u001b[39;00m file:\n\u001b[0;32m    108\u001b[0m     \u001b[38;5;28mself\u001b[39m\u001b[38;5;241m.\u001b[39mexpiry \u001b[38;5;241m=\u001b[39m cache\u001b[38;5;241m.\u001b[39mgetExpiry(\u001b[38;5;28mself\u001b[39m\u001b[38;5;241m.\u001b[39mcachePeriod)\u001b[38;5;241m.\u001b[39misoformat()\n\u001b[0;32m    109\u001b[0m     dump([\u001b[38;5;28mself\u001b[39m\u001b[38;5;241m.\u001b[39mexpiry, \u001b[38;5;28mself\u001b[39m\u001b[38;5;241m.\u001b[39mproxies], file)\n",
      "\u001b[1;31mPermissionError\u001b[0m: [Errno 13] Permission denied: '/.swiftshadow.json'"
     ]
    }
   ],
   "source": [
    "import swiftshadow\n",
    "from swiftshadow.classes import Proxy\n",
    "\n",
    "swift = Proxy(autoRotate=True)\n",
    "\n",
    "print(swift)"
   ]
  },
  {
   "cell_type": "code",
   "execution_count": 1,
   "id": "ef700366",
   "metadata": {},
   "outputs": [
    {
     "name": "stdout",
     "output_type": "stream",
     "text": [
      "{'http': '189.240.60.164:9090'}\n"
     ]
    }
   ],
   "source": [
    "import swiftshadow\n",
    "from swiftshadow import QuickProxy\n",
    "\n",
    "swift = QuickProxy()\n",
    "\n",
    "print(swift)\n"
   ]
  },
  {
   "cell_type": "code",
   "execution_count": null,
   "id": "b94984a3",
   "metadata": {},
   "outputs": [],
   "source": []
  }
 ],
 "metadata": {
  "kernelspec": {
   "display_name": "Python 3 (ipykernel)",
   "language": "python",
   "name": "python3"
  },
  "language_info": {
   "codemirror_mode": {
    "name": "ipython",
    "version": 3
   },
   "file_extension": ".py",
   "mimetype": "text/x-python",
   "name": "python",
   "nbconvert_exporter": "python",
   "pygments_lexer": "ipython3",
   "version": "3.10.9"
  }
 },
 "nbformat": 4,
 "nbformat_minor": 5
}
